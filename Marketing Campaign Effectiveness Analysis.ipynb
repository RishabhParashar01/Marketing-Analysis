{
 "cells": [
  {
   "cell_type": "markdown",
   "id": "34bdd451",
   "metadata": {},
   "source": [
    "## Data Analytics Project | Marketing Campaign Effectiveness Analysis | Python"
   ]
  },
  {
   "cell_type": "markdown",
   "id": "8adf5ffa",
   "metadata": {},
   "source": [
    "## Necessary Packages"
   ]
  },
  {
   "cell_type": "code",
   "execution_count": 2,
   "id": "557236fd",
   "metadata": {},
   "outputs": [],
   "source": [
    "import pandas as pd\n",
    "import numpy as np\n",
    "import matplotlib.pyplot as plt\n",
    "import seaborn as sns"
   ]
  },
  {
   "cell_type": "markdown",
   "id": "6d676bca",
   "metadata": {},
   "source": [
    "## Loading Datasets"
   ]
  },
  {
   "cell_type": "code",
   "execution_count": 3,
   "id": "df9fa645",
   "metadata": {},
   "outputs": [
    {
     "data": {
      "text/html": [
       "<div>\n",
       "<style scoped>\n",
       "    .dataframe tbody tr th:only-of-type {\n",
       "        vertical-align: middle;\n",
       "    }\n",
       "\n",
       "    .dataframe tbody tr th {\n",
       "        vertical-align: top;\n",
       "    }\n",
       "\n",
       "    .dataframe thead th {\n",
       "        text-align: right;\n",
       "    }\n",
       "</style>\n",
       "<table border=\"1\" class=\"dataframe\">\n",
       "  <thead>\n",
       "    <tr style=\"text-align: right;\">\n",
       "      <th></th>\n",
       "      <th>Customer ID</th>\n",
       "      <th>Age</th>\n",
       "      <th>Gender</th>\n",
       "      <th>Location</th>\n",
       "      <th>Income Level</th>\n",
       "    </tr>\n",
       "  </thead>\n",
       "  <tbody>\n",
       "    <tr>\n",
       "      <th>0</th>\n",
       "      <td>1</td>\n",
       "      <td>65</td>\n",
       "      <td>Male</td>\n",
       "      <td>Martinezmouth</td>\n",
       "      <td>61083</td>\n",
       "    </tr>\n",
       "    <tr>\n",
       "      <th>1</th>\n",
       "      <td>2</td>\n",
       "      <td>43</td>\n",
       "      <td>Non-binary</td>\n",
       "      <td>South Anne</td>\n",
       "      <td>90419</td>\n",
       "    </tr>\n",
       "    <tr>\n",
       "      <th>2</th>\n",
       "      <td>3</td>\n",
       "      <td>58</td>\n",
       "      <td>Non-binary</td>\n",
       "      <td>West Darrellport</td>\n",
       "      <td>38260</td>\n",
       "    </tr>\n",
       "    <tr>\n",
       "      <th>3</th>\n",
       "      <td>4</td>\n",
       "      <td>53</td>\n",
       "      <td>Non-binary</td>\n",
       "      <td>Stevenshire</td>\n",
       "      <td>34649</td>\n",
       "    </tr>\n",
       "    <tr>\n",
       "      <th>4</th>\n",
       "      <td>5</td>\n",
       "      <td>69</td>\n",
       "      <td>Female</td>\n",
       "      <td>South Kellychester</td>\n",
       "      <td>70420</td>\n",
       "    </tr>\n",
       "  </tbody>\n",
       "</table>\n",
       "</div>"
      ],
      "text/plain": [
       "   Customer ID  Age      Gender            Location  Income Level\n",
       "0            1   65        Male       Martinezmouth         61083\n",
       "1            2   43  Non-binary          South Anne         90419\n",
       "2            3   58  Non-binary    West Darrellport         38260\n",
       "3            4   53  Non-binary         Stevenshire         34649\n",
       "4            5   69      Female  South Kellychester         70420"
      ]
     },
     "execution_count": 3,
     "metadata": {},
     "output_type": "execute_result"
    }
   ],
   "source": [
    "customer_demographic_data = pd.read_csv(r\"C:\\phython files\\Datasets\\Datasets\\customer_demographic_data.csv\")\n",
    "customer_demographic_data.head()"
   ]
  },
  {
   "cell_type": "code",
   "execution_count": 4,
   "id": "cd4dd7da",
   "metadata": {},
   "outputs": [
    {
     "data": {
      "text/html": [
       "<div>\n",
       "<style scoped>\n",
       "    .dataframe tbody tr th:only-of-type {\n",
       "        vertical-align: middle;\n",
       "    }\n",
       "\n",
       "    .dataframe tbody tr th {\n",
       "        vertical-align: top;\n",
       "    }\n",
       "\n",
       "    .dataframe thead th {\n",
       "        text-align: right;\n",
       "    }\n",
       "</style>\n",
       "<table border=\"1\" class=\"dataframe\">\n",
       "  <thead>\n",
       "    <tr style=\"text-align: right;\">\n",
       "      <th></th>\n",
       "      <th>Customer ID</th>\n",
       "      <th>Interaction Date</th>\n",
       "      <th>Interaction Type</th>\n",
       "      <th>Interaction Channel</th>\n",
       "    </tr>\n",
       "  </thead>\n",
       "  <tbody>\n",
       "    <tr>\n",
       "      <th>0</th>\n",
       "      <td>1</td>\n",
       "      <td>2/28/2024</td>\n",
       "      <td>share</td>\n",
       "      <td>website</td>\n",
       "    </tr>\n",
       "    <tr>\n",
       "      <th>1</th>\n",
       "      <td>2</td>\n",
       "      <td>4/27/2024</td>\n",
       "      <td>view</td>\n",
       "      <td>social media</td>\n",
       "    </tr>\n",
       "    <tr>\n",
       "      <th>2</th>\n",
       "      <td>3</td>\n",
       "      <td>2/26/2024</td>\n",
       "      <td>share</td>\n",
       "      <td>email</td>\n",
       "    </tr>\n",
       "    <tr>\n",
       "      <th>3</th>\n",
       "      <td>4</td>\n",
       "      <td>2/13/2024</td>\n",
       "      <td>click</td>\n",
       "      <td>email</td>\n",
       "    </tr>\n",
       "    <tr>\n",
       "      <th>4</th>\n",
       "      <td>5</td>\n",
       "      <td>4/1/2024</td>\n",
       "      <td>share</td>\n",
       "      <td>social media</td>\n",
       "    </tr>\n",
       "  </tbody>\n",
       "</table>\n",
       "</div>"
      ],
      "text/plain": [
       "   Customer ID Interaction Date Interaction Type Interaction Channel\n",
       "0            1        2/28/2024            share             website\n",
       "1            2        4/27/2024             view        social media\n",
       "2            3        2/26/2024            share               email\n",
       "3            4        2/13/2024            click               email\n",
       "4            5         4/1/2024            share        social media"
      ]
     },
     "execution_count": 4,
     "metadata": {},
     "output_type": "execute_result"
    }
   ],
   "source": [
    "customer_interactions_data =pd.read_csv(r\"C:\\phython files\\Datasets\\Datasets\\customer_interactions.csv\")\n",
    "customer_interactions_data.head()"
   ]
  },
  {
   "cell_type": "code",
   "execution_count": 6,
   "id": "a3f495d7",
   "metadata": {},
   "outputs": [
    {
     "data": {
      "text/html": [
       "<div>\n",
       "<style scoped>\n",
       "    .dataframe tbody tr th:only-of-type {\n",
       "        vertical-align: middle;\n",
       "    }\n",
       "\n",
       "    .dataframe tbody tr th {\n",
       "        vertical-align: top;\n",
       "    }\n",
       "\n",
       "    .dataframe thead th {\n",
       "        text-align: right;\n",
       "    }\n",
       "</style>\n",
       "<table border=\"1\" class=\"dataframe\">\n",
       "  <thead>\n",
       "    <tr style=\"text-align: right;\">\n",
       "      <th></th>\n",
       "      <th>Transaction ID</th>\n",
       "      <th>Transaction Date</th>\n",
       "      <th>Customer ID</th>\n",
       "      <th>Product ID</th>\n",
       "      <th>Product Category</th>\n",
       "      <th>Sales Amount</th>\n",
       "      <th>Quantity</th>\n",
       "    </tr>\n",
       "  </thead>\n",
       "  <tbody>\n",
       "    <tr>\n",
       "      <th>0</th>\n",
       "      <td>1</td>\n",
       "      <td>1/19/2024</td>\n",
       "      <td>213</td>\n",
       "      <td>345</td>\n",
       "      <td>Books</td>\n",
       "      <td>295.15</td>\n",
       "      <td>7</td>\n",
       "    </tr>\n",
       "    <tr>\n",
       "      <th>1</th>\n",
       "      <td>2</td>\n",
       "      <td>6/11/2024</td>\n",
       "      <td>59</td>\n",
       "      <td>134</td>\n",
       "      <td>Electronics</td>\n",
       "      <td>457.78</td>\n",
       "      <td>1</td>\n",
       "    </tr>\n",
       "    <tr>\n",
       "      <th>2</th>\n",
       "      <td>3</td>\n",
       "      <td>1/10/2024</td>\n",
       "      <td>178</td>\n",
       "      <td>89</td>\n",
       "      <td>Electronics</td>\n",
       "      <td>423.84</td>\n",
       "      <td>2</td>\n",
       "    </tr>\n",
       "    <tr>\n",
       "      <th>3</th>\n",
       "      <td>4</td>\n",
       "      <td>5/30/2024</td>\n",
       "      <td>359</td>\n",
       "      <td>423</td>\n",
       "      <td>Home &amp; Kitchen</td>\n",
       "      <td>497.52</td>\n",
       "      <td>1</td>\n",
       "    </tr>\n",
       "    <tr>\n",
       "      <th>4</th>\n",
       "      <td>5</td>\n",
       "      <td>3/21/2024</td>\n",
       "      <td>384</td>\n",
       "      <td>139</td>\n",
       "      <td>Clothing</td>\n",
       "      <td>164.21</td>\n",
       "      <td>7</td>\n",
       "    </tr>\n",
       "  </tbody>\n",
       "</table>\n",
       "</div>"
      ],
      "text/plain": [
       "   Transaction ID Transaction Date  Customer ID  Product ID Product Category  \\\n",
       "0               1        1/19/2024          213         345            Books   \n",
       "1               2        6/11/2024           59         134      Electronics   \n",
       "2               3        1/10/2024          178          89      Electronics   \n",
       "3               4        5/30/2024          359         423   Home & Kitchen   \n",
       "4               5        3/21/2024          384         139         Clothing   \n",
       "\n",
       "   Sales Amount  Quantity  \n",
       "0        295.15         7  \n",
       "1        457.78         1  \n",
       "2        423.84         2  \n",
       "3        497.52         1  \n",
       "4        164.21         7  "
      ]
     },
     "execution_count": 6,
     "metadata": {},
     "output_type": "execute_result"
    }
   ],
   "source": [
    "sales_data = pd.read_csv(r\"C:\\phython files\\Datasets\\Datasets\\sales_data.csv\")\n",
    "sales_data.head()"
   ]
  },
  {
   "cell_type": "markdown",
   "id": "34e8ba7f",
   "metadata": {},
   "source": [
    "## Data Cleaning "
   ]
  },
  {
   "cell_type": "markdown",
   "id": "8fed05f8",
   "metadata": {},
   "source": [
    "### Customer Demographic Data"
   ]
  },
  {
   "cell_type": "code",
   "execution_count": 7,
   "id": "1406f007",
   "metadata": {},
   "outputs": [
    {
     "data": {
      "text/plain": [
       "Customer ID      int64\n",
       "Age              int64\n",
       "Gender          object\n",
       "Location        object\n",
       "Income Level     int64\n",
       "dtype: object"
      ]
     },
     "execution_count": 7,
     "metadata": {},
     "output_type": "execute_result"
    }
   ],
   "source": [
    "customer_demographic_data.dtypes"
   ]
  },
  {
   "cell_type": "code",
   "execution_count": 8,
   "id": "fa6d38f7",
   "metadata": {},
   "outputs": [
    {
     "data": {
      "text/plain": [
       "Customer ID     0\n",
       "Age             0\n",
       "Gender          0\n",
       "Location        0\n",
       "Income Level    0\n",
       "dtype: int64"
      ]
     },
     "execution_count": 8,
     "metadata": {},
     "output_type": "execute_result"
    }
   ],
   "source": [
    "customer_demographic_data.isnull().sum()"
   ]
  },
  {
   "cell_type": "markdown",
   "id": "324df31e",
   "metadata": {},
   "source": [
    "## Customer Interaction Data"
   ]
  },
  {
   "cell_type": "code",
   "execution_count": 9,
   "id": "9afd7239",
   "metadata": {},
   "outputs": [
    {
     "data": {
      "text/plain": [
       "Customer ID             int64\n",
       "Interaction Date       object\n",
       "Interaction Type       object\n",
       "Interaction Channel    object\n",
       "dtype: object"
      ]
     },
     "execution_count": 9,
     "metadata": {},
     "output_type": "execute_result"
    }
   ],
   "source": [
    "customer_interactions_data.dtypes"
   ]
  },
  {
   "cell_type": "code",
   "execution_count": 10,
   "id": "760e2d5b",
   "metadata": {},
   "outputs": [],
   "source": [
    "customer_interactions_data[\"Interaction Date\"]=customer_interactions_data[\"Interaction Date\"].astype(\"datetime64[ns]\")"
   ]
  },
  {
   "cell_type": "code",
   "execution_count": 11,
   "id": "8abc3ced",
   "metadata": {},
   "outputs": [
    {
     "data": {
      "text/plain": [
       "Customer ID                     int64\n",
       "Interaction Date       datetime64[ns]\n",
       "Interaction Type               object\n",
       "Interaction Channel            object\n",
       "dtype: object"
      ]
     },
     "execution_count": 11,
     "metadata": {},
     "output_type": "execute_result"
    }
   ],
   "source": [
    "customer_interactions_data.dtypes"
   ]
  },
  {
   "cell_type": "code",
   "execution_count": 12,
   "id": "19b6a223",
   "metadata": {},
   "outputs": [
    {
     "data": {
      "text/plain": [
       "Customer ID             0\n",
       "Interaction Date        0\n",
       "Interaction Type        0\n",
       "Interaction Channel    11\n",
       "dtype: int64"
      ]
     },
     "execution_count": 12,
     "metadata": {},
     "output_type": "execute_result"
    }
   ],
   "source": [
    "customer_interactions_data.isnull().sum()"
   ]
  },
  {
   "cell_type": "code",
   "execution_count": 14,
   "id": "02d9ff3b",
   "metadata": {},
   "outputs": [
    {
     "data": {
      "text/plain": [
       "(1000, 4)"
      ]
     },
     "execution_count": 14,
     "metadata": {},
     "output_type": "execute_result"
    }
   ],
   "source": [
    "customer_interactions_data.shape"
   ]
  },
  {
   "cell_type": "code",
   "execution_count": 15,
   "id": "ea9c2b23",
   "metadata": {},
   "outputs": [
    {
     "data": {
      "text/plain": [
       "Interaction Channel\n",
       "website         334\n",
       "email           329\n",
       "social media    326\n",
       "Name: count, dtype: int64"
      ]
     },
     "execution_count": 15,
     "metadata": {},
     "output_type": "execute_result"
    }
   ],
   "source": [
    "customer_interactions_data['Interaction Channel'].value_counts()"
   ]
  },
  {
   "cell_type": "code",
   "execution_count": 17,
   "id": "2a4c3161",
   "metadata": {},
   "outputs": [],
   "source": [
    "customer_interactions_data['Interaction Channel'].fillna('website',inplace=True)"
   ]
  },
  {
   "cell_type": "code",
   "execution_count": 18,
   "id": "95e94ff4",
   "metadata": {},
   "outputs": [
    {
     "data": {
      "text/plain": [
       "Customer ID            0\n",
       "Interaction Date       0\n",
       "Interaction Type       0\n",
       "Interaction Channel    0\n",
       "dtype: int64"
      ]
     },
     "execution_count": 18,
     "metadata": {},
     "output_type": "execute_result"
    }
   ],
   "source": [
    "customer_interactions_data.isnull().sum()"
   ]
  },
  {
   "cell_type": "markdown",
   "id": "d810c8c1",
   "metadata": {},
   "source": [
    "## Sales Data"
   ]
  },
  {
   "cell_type": "code",
   "execution_count": 19,
   "id": "7a4bfe09",
   "metadata": {},
   "outputs": [
    {
     "data": {
      "text/plain": [
       "Transaction ID        int64\n",
       "Transaction Date     object\n",
       "Customer ID           int64\n",
       "Product ID            int64\n",
       "Product Category     object\n",
       "Sales Amount        float64\n",
       "Quantity              int64\n",
       "dtype: object"
      ]
     },
     "execution_count": 19,
     "metadata": {},
     "output_type": "execute_result"
    }
   ],
   "source": [
    "sales_data.dtypes"
   ]
  },
  {
   "cell_type": "code",
   "execution_count": 20,
   "id": "40240862",
   "metadata": {},
   "outputs": [],
   "source": [
    "sales_data['Transaction Date']=sales_data['Transaction Date'].astype('datetime64[ns]')"
   ]
  },
  {
   "cell_type": "code",
   "execution_count": 21,
   "id": "329bfd02",
   "metadata": {},
   "outputs": [
    {
     "data": {
      "text/plain": [
       "Transaction ID               int64\n",
       "Transaction Date    datetime64[ns]\n",
       "Customer ID                  int64\n",
       "Product ID                   int64\n",
       "Product Category            object\n",
       "Sales Amount               float64\n",
       "Quantity                     int64\n",
       "dtype: object"
      ]
     },
     "execution_count": 21,
     "metadata": {},
     "output_type": "execute_result"
    }
   ],
   "source": [
    "sales_data.dtypes"
   ]
  },
  {
   "cell_type": "code",
   "execution_count": 22,
   "id": "e2df0392",
   "metadata": {},
   "outputs": [
    {
     "data": {
      "text/plain": [
       "Transaction ID      0\n",
       "Transaction Date    0\n",
       "Customer ID         0\n",
       "Product ID          0\n",
       "Product Category    0\n",
       "Sales Amount        0\n",
       "Quantity            0\n",
       "dtype: int64"
      ]
     },
     "execution_count": 22,
     "metadata": {},
     "output_type": "execute_result"
    }
   ],
   "source": [
    "sales_data.isnull().sum()"
   ]
  },
  {
   "cell_type": "markdown",
   "id": "cbe9f011",
   "metadata": {},
   "source": [
    "# Data Analysis"
   ]
  },
  {
   "cell_type": "markdown",
   "id": "ad9edfc7",
   "metadata": {},
   "source": [
    "### How many customers interacted with our campaign materials, and what was the engagement rate?"
   ]
  },
  {
   "cell_type": "markdown",
   "id": "d9d76749",
   "metadata": {},
   "source": [
    "### Total customers interacted with our campaign"
   ]
  },
  {
   "cell_type": "code",
   "execution_count": 23,
   "id": "bc0b065f",
   "metadata": {},
   "outputs": [
    {
     "data": {
      "text/plain": [
       "1000"
      ]
     },
     "execution_count": 23,
     "metadata": {},
     "output_type": "execute_result"
    }
   ],
   "source": [
    "customer_interactions_data['Customer ID'].nunique()"
   ]
  },
  {
   "cell_type": "markdown",
   "id": "c2664160",
   "metadata": {},
   "source": [
    "### Total customers interacted with our campaign by Type"
   ]
  },
  {
   "cell_type": "code",
   "execution_count": 25,
   "id": "cfba37b7",
   "metadata": {},
   "outputs": [
    {
     "data": {
      "text/plain": [
       "Interaction Type\n",
       "share    35.6\n",
       "click    32.6\n",
       "view     31.8\n",
       "Name: count, dtype: float64"
      ]
     },
     "execution_count": 25,
     "metadata": {},
     "output_type": "execute_result"
    }
   ],
   "source": [
    "total_cust_intr_type=(customer_interactions_data['Interaction Type'].value_counts()/1000)*100\n",
    "total_cust_intr_type"
   ]
  },
  {
   "cell_type": "code",
   "execution_count": 28,
   "id": "a785dd56",
   "metadata": {},
   "outputs": [
    {
     "data": {
      "image/png": "[encoded data removed]",
      "text/plain": [
       "<Figure size 640x480 with 1 Axes>"
      ]
     },
     "metadata": {},
     "output_type": "display_data"
    }
   ],
   "source": [
    "plt.pie(total_cust_intr_type,labels = total_cust_intr_type.index,autopct = '%1.1f%%')\n",
    "plt.title('Percentage of customer interacted by type')\n",
    "plt.show()"
   ]
  },
  {
   "cell_type": "markdown",
   "id": "3a64347c",
   "metadata": {},
   "source": [
    "### Total customers interacted with our campaign by Channel"
   ]
  },
  {
   "cell_type": "code",
   "execution_count": 29,
   "id": "076a3d0f",
   "metadata": {},
   "outputs": [
    {
     "data": {
      "text/plain": [
       "Interaction Channel\n",
       "website         345\n",
       "email           329\n",
       "social media    326\n",
       "Name: count, dtype: int64"
      ]
     },
     "execution_count": 29,
     "metadata": {},
     "output_type": "execute_result"
    }
   ],
   "source": [
    "total_cust_intr_channel = customer_interactions_data['Interaction Channel'].value_counts()\n",
    "total_cust_intr_channel"
   ]
  },
  {
   "cell_type": "code",
   "execution_count": 30,
   "id": "c39119a3",
   "metadata": {},
   "outputs": [
    {
     "data": {
      "image/png": "[encoded data removed]",
      "text/plain": [
       "<Figure size 640x480 with 1 Axes>"
      ]
     },
     "metadata": {},
     "output_type": "display_data"
    }
   ],
   "source": [
    "plt.bar(total_cust_intr_channel.index,total_cust_intr_channel.values)\n",
    "plt.title('Total customers interacted by channel')\n",
    "plt.xlabel('Interaction channel')\n",
    "plt.ylabel('Counts Of Customers')\n",
    "plt.show()"
   ]
  },
  {
   "cell_type": "markdown",
   "id": "6e76922b",
   "metadata": {},
   "source": [
    "### Engagement Rate for the Campaign"
   ]
  },
  {
   "cell_type": "code",
   "execution_count": 32,
   "id": "8ee2d478",
   "metadata": {
    "scrolled": true
   },
   "outputs": [
    {
     "name": "stdout",
     "output_type": "stream",
     "text": [
      "Engagement Rate : 66.67 %\n"
     ]
    }
   ],
   "source": [
    "# total targeted customer is 1500\n",
    "engagement_rate = (1000/1500)*100\n",
    "print('Engagement Rate :',round(engagement_rate,2),'%')"
   ]
  },
  {
   "cell_type": "markdown",
   "id": "2ed2789d",
   "metadata": {},
   "source": [
    "### What percentage of engaged customers made a purchase, and how does this compare to our targets?"
   ]
  },
  {
   "cell_type": "code",
   "execution_count": 33,
   "id": "bc81ef9b",
   "metadata": {},
   "outputs": [
    {
     "data": {
      "text/html": [
       "<div>\n",
       "<style scoped>\n",
       "    .dataframe tbody tr th:only-of-type {\n",
       "        vertical-align: middle;\n",
       "    }\n",
       "\n",
       "    .dataframe tbody tr th {\n",
       "        vertical-align: top;\n",
       "    }\n",
       "\n",
       "    .dataframe thead th {\n",
       "        text-align: right;\n",
       "    }\n",
       "</style>\n",
       "<table border=\"1\" class=\"dataframe\">\n",
       "  <thead>\n",
       "    <tr style=\"text-align: right;\">\n",
       "      <th></th>\n",
       "      <th>Customer ID</th>\n",
       "      <th>Interaction Date</th>\n",
       "      <th>Interaction Type</th>\n",
       "      <th>Interaction Channel</th>\n",
       "      <th>Transaction ID</th>\n",
       "      <th>Transaction Date</th>\n",
       "      <th>Product ID</th>\n",
       "      <th>Product Category</th>\n",
       "      <th>Sales Amount</th>\n",
       "      <th>Quantity</th>\n",
       "    </tr>\n",
       "  </thead>\n",
       "  <tbody>\n",
       "    <tr>\n",
       "      <th>0</th>\n",
       "      <td>1</td>\n",
       "      <td>2024-02-28</td>\n",
       "      <td>share</td>\n",
       "      <td>website</td>\n",
       "      <td>178</td>\n",
       "      <td>2024-05-31</td>\n",
       "      <td>88</td>\n",
       "      <td>Home &amp; Kitchen</td>\n",
       "      <td>372.84</td>\n",
       "      <td>6</td>\n",
       "    </tr>\n",
       "    <tr>\n",
       "      <th>1</th>\n",
       "      <td>2</td>\n",
       "      <td>2024-04-27</td>\n",
       "      <td>view</td>\n",
       "      <td>social media</td>\n",
       "      <td>135</td>\n",
       "      <td>2024-03-18</td>\n",
       "      <td>84</td>\n",
       "      <td>Clothing</td>\n",
       "      <td>485.74</td>\n",
       "      <td>9</td>\n",
       "    </tr>\n",
       "    <tr>\n",
       "      <th>2</th>\n",
       "      <td>2</td>\n",
       "      <td>2024-04-27</td>\n",
       "      <td>view</td>\n",
       "      <td>social media</td>\n",
       "      <td>223</td>\n",
       "      <td>2024-07-04</td>\n",
       "      <td>99</td>\n",
       "      <td>Sports</td>\n",
       "      <td>482.55</td>\n",
       "      <td>6</td>\n",
       "    </tr>\n",
       "    <tr>\n",
       "      <th>3</th>\n",
       "      <td>2</td>\n",
       "      <td>2024-04-27</td>\n",
       "      <td>view</td>\n",
       "      <td>social media</td>\n",
       "      <td>886</td>\n",
       "      <td>2024-03-13</td>\n",
       "      <td>170</td>\n",
       "      <td>Home &amp; Kitchen</td>\n",
       "      <td>272.24</td>\n",
       "      <td>9</td>\n",
       "    </tr>\n",
       "    <tr>\n",
       "      <th>4</th>\n",
       "      <td>2</td>\n",
       "      <td>2024-04-27</td>\n",
       "      <td>view</td>\n",
       "      <td>social media</td>\n",
       "      <td>1183</td>\n",
       "      <td>2024-02-06</td>\n",
       "      <td>241</td>\n",
       "      <td>Books</td>\n",
       "      <td>13.68</td>\n",
       "      <td>7</td>\n",
       "    </tr>\n",
       "  </tbody>\n",
       "</table>\n",
       "</div>"
      ],
      "text/plain": [
       "   Customer ID Interaction Date Interaction Type Interaction Channel  \\\n",
       "0            1       2024-02-28            share             website   \n",
       "1            2       2024-04-27             view        social media   \n",
       "2            2       2024-04-27             view        social media   \n",
       "3            2       2024-04-27             view        social media   \n",
       "4            2       2024-04-27             view        social media   \n",
       "\n",
       "   Transaction ID Transaction Date  Product ID Product Category  Sales Amount  \\\n",
       "0             178       2024-05-31          88   Home & Kitchen        372.84   \n",
       "1             135       2024-03-18          84         Clothing        485.74   \n",
       "2             223       2024-07-04          99           Sports        482.55   \n",
       "3             886       2024-03-13         170   Home & Kitchen        272.24   \n",
       "4            1183       2024-02-06         241            Books         13.68   \n",
       "\n",
       "   Quantity  \n",
       "0         6  \n",
       "1         9  \n",
       "2         6  \n",
       "3         9  \n",
       "4         7  "
      ]
     },
     "execution_count": 33,
     "metadata": {},
     "output_type": "execute_result"
    }
   ],
   "source": [
    "cust_intr_purch=customer_interactions_data.merge(sales_data,on='Customer ID',how='inner')\n",
    "cust_intr_purch.head()"
   ]
  },
  {
   "cell_type": "code",
   "execution_count": 34,
   "id": "968ebe5e",
   "metadata": {},
   "outputs": [
    {
     "data": {
      "text/plain": [
       "656"
      ]
     },
     "execution_count": 34,
     "metadata": {},
     "output_type": "execute_result"
    }
   ],
   "source": [
    "total_cust_intr_purch = cust_intr_purch['Customer ID'].nunique()\n",
    "total_cust_intr_purch"
   ]
  },
  {
   "cell_type": "code",
   "execution_count": 36,
   "id": "635e1bb3",
   "metadata": {},
   "outputs": [
    {
     "name": "stdout",
     "output_type": "stream",
     "text": [
      "Purchase rate by targeted customers : 43.73 %\n",
      "Purchase rate by engaged customers : 65.6 %\n"
     ]
    }
   ],
   "source": [
    "purch_rate_targeted=(total_cust_intr_purch/1500)*100\n",
    "purch_rate_engaged=(total_cust_intr_purch/1000)*100\n",
    "\n",
    "print('Purchase rate by targeted customers :',round(purch_rate_targeted,2),'%')\n",
    "print('Purchase rate by engaged customers :',round(purch_rate_engaged,2),'%')"
   ]
  },
  {
   "cell_type": "markdown",
   "id": "da0abadb",
   "metadata": {},
   "source": [
    "### What was the overall impact on sales? Did we see a significant increase in sales during and after the campaign period?"
   ]
  },
  {
   "cell_type": "markdown",
   "id": "239a13ab",
   "metadata": {},
   "source": [
    "### Total sales during the campaign"
   ]
  },
  {
   "cell_type": "code",
   "execution_count": 37,
   "id": "c97cb6ab",
   "metadata": {},
   "outputs": [
    {
     "data": {
      "text/plain": [
       "Timestamp('2024-01-01 00:00:00')"
      ]
     },
     "execution_count": 37,
     "metadata": {},
     "output_type": "execute_result"
    }
   ],
   "source": [
    "sales_data['Transaction Date'].min()"
   ]
  },
  {
   "cell_type": "code",
   "execution_count": 38,
   "id": "0bcfd562",
   "metadata": {},
   "outputs": [
    {
     "data": {
      "text/plain": [
       "Timestamp('2024-07-06 00:00:00')"
      ]
     },
     "execution_count": 38,
     "metadata": {},
     "output_type": "execute_result"
    }
   ],
   "source": [
    "sales_data['Transaction Date'].max()"
   ]
  },
  {
   "cell_type": "code",
   "execution_count": 39,
   "id": "55ccb012",
   "metadata": {},
   "outputs": [
    {
     "data": {
      "text/html": [
       "<div>\n",
       "<style scoped>\n",
       "    .dataframe tbody tr th:only-of-type {\n",
       "        vertical-align: middle;\n",
       "    }\n",
       "\n",
       "    .dataframe tbody tr th {\n",
       "        vertical-align: top;\n",
       "    }\n",
       "\n",
       "    .dataframe thead th {\n",
       "        text-align: right;\n",
       "    }\n",
       "</style>\n",
       "<table border=\"1\" class=\"dataframe\">\n",
       "  <thead>\n",
       "    <tr style=\"text-align: right;\">\n",
       "      <th></th>\n",
       "      <th>Transaction ID</th>\n",
       "      <th>Transaction Date</th>\n",
       "      <th>Customer ID</th>\n",
       "      <th>Product ID</th>\n",
       "      <th>Product Category</th>\n",
       "      <th>Sales Amount</th>\n",
       "      <th>Quantity</th>\n",
       "    </tr>\n",
       "  </thead>\n",
       "  <tbody>\n",
       "    <tr>\n",
       "      <th>0</th>\n",
       "      <td>1</td>\n",
       "      <td>2024-01-19</td>\n",
       "      <td>213</td>\n",
       "      <td>345</td>\n",
       "      <td>Books</td>\n",
       "      <td>295.15</td>\n",
       "      <td>7</td>\n",
       "    </tr>\n",
       "    <tr>\n",
       "      <th>1</th>\n",
       "      <td>2</td>\n",
       "      <td>2024-06-11</td>\n",
       "      <td>59</td>\n",
       "      <td>134</td>\n",
       "      <td>Electronics</td>\n",
       "      <td>457.78</td>\n",
       "      <td>1</td>\n",
       "    </tr>\n",
       "    <tr>\n",
       "      <th>2</th>\n",
       "      <td>3</td>\n",
       "      <td>2024-01-10</td>\n",
       "      <td>178</td>\n",
       "      <td>89</td>\n",
       "      <td>Electronics</td>\n",
       "      <td>423.84</td>\n",
       "      <td>2</td>\n",
       "    </tr>\n",
       "    <tr>\n",
       "      <th>3</th>\n",
       "      <td>4</td>\n",
       "      <td>2024-05-30</td>\n",
       "      <td>359</td>\n",
       "      <td>423</td>\n",
       "      <td>Home &amp; Kitchen</td>\n",
       "      <td>497.52</td>\n",
       "      <td>1</td>\n",
       "    </tr>\n",
       "    <tr>\n",
       "      <th>4</th>\n",
       "      <td>5</td>\n",
       "      <td>2024-03-21</td>\n",
       "      <td>384</td>\n",
       "      <td>139</td>\n",
       "      <td>Clothing</td>\n",
       "      <td>164.21</td>\n",
       "      <td>7</td>\n",
       "    </tr>\n",
       "  </tbody>\n",
       "</table>\n",
       "</div>"
      ],
      "text/plain": [
       "   Transaction ID Transaction Date  Customer ID  Product ID Product Category  \\\n",
       "0               1       2024-01-19          213         345            Books   \n",
       "1               2       2024-06-11           59         134      Electronics   \n",
       "2               3       2024-01-10          178          89      Electronics   \n",
       "3               4       2024-05-30          359         423   Home & Kitchen   \n",
       "4               5       2024-03-21          384         139         Clothing   \n",
       "\n",
       "   Sales Amount  Quantity  \n",
       "0        295.15         7  \n",
       "1        457.78         1  \n",
       "2        423.84         2  \n",
       "3        497.52         1  \n",
       "4        164.21         7  "
      ]
     },
     "execution_count": 39,
     "metadata": {},
     "output_type": "execute_result"
    }
   ],
   "source": [
    "sales_data.head()"
   ]
  },
  {
   "cell_type": "code",
   "execution_count": 41,
   "id": "3eff4683",
   "metadata": {},
   "outputs": [
    {
     "data": {
      "text/html": [
       "<div>\n",
       "<style scoped>\n",
       "    .dataframe tbody tr th:only-of-type {\n",
       "        vertical-align: middle;\n",
       "    }\n",
       "\n",
       "    .dataframe tbody tr th {\n",
       "        vertical-align: top;\n",
       "    }\n",
       "\n",
       "    .dataframe thead th {\n",
       "        text-align: right;\n",
       "    }\n",
       "</style>\n",
       "<table border=\"1\" class=\"dataframe\">\n",
       "  <thead>\n",
       "    <tr style=\"text-align: right;\">\n",
       "      <th></th>\n",
       "      <th>Transaction ID</th>\n",
       "      <th>Transaction Date</th>\n",
       "      <th>Customer ID</th>\n",
       "      <th>Product ID</th>\n",
       "      <th>Product Category</th>\n",
       "      <th>Sales Amount</th>\n",
       "      <th>Quantity</th>\n",
       "      <th>Sales</th>\n",
       "    </tr>\n",
       "  </thead>\n",
       "  <tbody>\n",
       "    <tr>\n",
       "      <th>0</th>\n",
       "      <td>1</td>\n",
       "      <td>2024-01-19</td>\n",
       "      <td>213</td>\n",
       "      <td>345</td>\n",
       "      <td>Books</td>\n",
       "      <td>295.15</td>\n",
       "      <td>7</td>\n",
       "      <td>2066.05</td>\n",
       "    </tr>\n",
       "    <tr>\n",
       "      <th>1</th>\n",
       "      <td>2</td>\n",
       "      <td>2024-06-11</td>\n",
       "      <td>59</td>\n",
       "      <td>134</td>\n",
       "      <td>Electronics</td>\n",
       "      <td>457.78</td>\n",
       "      <td>1</td>\n",
       "      <td>457.78</td>\n",
       "    </tr>\n",
       "    <tr>\n",
       "      <th>2</th>\n",
       "      <td>3</td>\n",
       "      <td>2024-01-10</td>\n",
       "      <td>178</td>\n",
       "      <td>89</td>\n",
       "      <td>Electronics</td>\n",
       "      <td>423.84</td>\n",
       "      <td>2</td>\n",
       "      <td>847.68</td>\n",
       "    </tr>\n",
       "    <tr>\n",
       "      <th>3</th>\n",
       "      <td>4</td>\n",
       "      <td>2024-05-30</td>\n",
       "      <td>359</td>\n",
       "      <td>423</td>\n",
       "      <td>Home &amp; Kitchen</td>\n",
       "      <td>497.52</td>\n",
       "      <td>1</td>\n",
       "      <td>497.52</td>\n",
       "    </tr>\n",
       "    <tr>\n",
       "      <th>4</th>\n",
       "      <td>5</td>\n",
       "      <td>2024-03-21</td>\n",
       "      <td>384</td>\n",
       "      <td>139</td>\n",
       "      <td>Clothing</td>\n",
       "      <td>164.21</td>\n",
       "      <td>7</td>\n",
       "      <td>1149.47</td>\n",
       "    </tr>\n",
       "  </tbody>\n",
       "</table>\n",
       "</div>"
      ],
      "text/plain": [
       "   Transaction ID Transaction Date  Customer ID  Product ID Product Category  \\\n",
       "0               1       2024-01-19          213         345            Books   \n",
       "1               2       2024-06-11           59         134      Electronics   \n",
       "2               3       2024-01-10          178          89      Electronics   \n",
       "3               4       2024-05-30          359         423   Home & Kitchen   \n",
       "4               5       2024-03-21          384         139         Clothing   \n",
       "\n",
       "   Sales Amount  Quantity    Sales  \n",
       "0        295.15         7  2066.05  \n",
       "1        457.78         1   457.78  \n",
       "2        423.84         2   847.68  \n",
       "3        497.52         1   497.52  \n",
       "4        164.21         7  1149.47  "
      ]
     },
     "execution_count": 41,
     "metadata": {},
     "output_type": "execute_result"
    }
   ],
   "source": [
    "sales_data['Sales'] = sales_data['Sales Amount']* sales_data['Quantity']\n",
    "sales_data.head()"
   ]
  },
  {
   "cell_type": "code",
   "execution_count": 42,
   "id": "1d9feb95",
   "metadata": {},
   "outputs": [
    {
     "data": {
      "text/html": [
       "<div>\n",
       "<style scoped>\n",
       "    .dataframe tbody tr th:only-of-type {\n",
       "        vertical-align: middle;\n",
       "    }\n",
       "\n",
       "    .dataframe tbody tr th {\n",
       "        vertical-align: top;\n",
       "    }\n",
       "\n",
       "    .dataframe thead th {\n",
       "        text-align: right;\n",
       "    }\n",
       "</style>\n",
       "<table border=\"1\" class=\"dataframe\">\n",
       "  <thead>\n",
       "    <tr style=\"text-align: right;\">\n",
       "      <th></th>\n",
       "      <th>Transaction ID</th>\n",
       "      <th>Transaction Date</th>\n",
       "      <th>Customer ID</th>\n",
       "      <th>Product ID</th>\n",
       "      <th>Product Category</th>\n",
       "      <th>Sales Amount</th>\n",
       "      <th>Quantity</th>\n",
       "      <th>Sales</th>\n",
       "      <th>Month</th>\n",
       "      <th>Day</th>\n",
       "    </tr>\n",
       "  </thead>\n",
       "  <tbody>\n",
       "    <tr>\n",
       "      <th>0</th>\n",
       "      <td>1</td>\n",
       "      <td>2024-01-19</td>\n",
       "      <td>213</td>\n",
       "      <td>345</td>\n",
       "      <td>Books</td>\n",
       "      <td>295.15</td>\n",
       "      <td>7</td>\n",
       "      <td>2066.05</td>\n",
       "      <td>1</td>\n",
       "      <td>19</td>\n",
       "    </tr>\n",
       "    <tr>\n",
       "      <th>1</th>\n",
       "      <td>2</td>\n",
       "      <td>2024-06-11</td>\n",
       "      <td>59</td>\n",
       "      <td>134</td>\n",
       "      <td>Electronics</td>\n",
       "      <td>457.78</td>\n",
       "      <td>1</td>\n",
       "      <td>457.78</td>\n",
       "      <td>6</td>\n",
       "      <td>11</td>\n",
       "    </tr>\n",
       "    <tr>\n",
       "      <th>2</th>\n",
       "      <td>3</td>\n",
       "      <td>2024-01-10</td>\n",
       "      <td>178</td>\n",
       "      <td>89</td>\n",
       "      <td>Electronics</td>\n",
       "      <td>423.84</td>\n",
       "      <td>2</td>\n",
       "      <td>847.68</td>\n",
       "      <td>1</td>\n",
       "      <td>10</td>\n",
       "    </tr>\n",
       "    <tr>\n",
       "      <th>3</th>\n",
       "      <td>4</td>\n",
       "      <td>2024-05-30</td>\n",
       "      <td>359</td>\n",
       "      <td>423</td>\n",
       "      <td>Home &amp; Kitchen</td>\n",
       "      <td>497.52</td>\n",
       "      <td>1</td>\n",
       "      <td>497.52</td>\n",
       "      <td>5</td>\n",
       "      <td>30</td>\n",
       "    </tr>\n",
       "    <tr>\n",
       "      <th>4</th>\n",
       "      <td>5</td>\n",
       "      <td>2024-03-21</td>\n",
       "      <td>384</td>\n",
       "      <td>139</td>\n",
       "      <td>Clothing</td>\n",
       "      <td>164.21</td>\n",
       "      <td>7</td>\n",
       "      <td>1149.47</td>\n",
       "      <td>3</td>\n",
       "      <td>21</td>\n",
       "    </tr>\n",
       "  </tbody>\n",
       "</table>\n",
       "</div>"
      ],
      "text/plain": [
       "   Transaction ID Transaction Date  Customer ID  Product ID Product Category  \\\n",
       "0               1       2024-01-19          213         345            Books   \n",
       "1               2       2024-06-11           59         134      Electronics   \n",
       "2               3       2024-01-10          178          89      Electronics   \n",
       "3               4       2024-05-30          359         423   Home & Kitchen   \n",
       "4               5       2024-03-21          384         139         Clothing   \n",
       "\n",
       "   Sales Amount  Quantity    Sales  Month  Day  \n",
       "0        295.15         7  2066.05      1   19  \n",
       "1        457.78         1   457.78      6   11  \n",
       "2        423.84         2   847.68      1   10  \n",
       "3        497.52         1   497.52      5   30  \n",
       "4        164.21         7  1149.47      3   21  "
      ]
     },
     "execution_count": 42,
     "metadata": {},
     "output_type": "execute_result"
    }
   ],
   "source": [
    "sales_data['Month']=sales_data['Transaction Date'].dt.month\n",
    "sales_data['Day']=sales_data['Transaction Date'].dt.day\n",
    "sales_data.head()"
   ]
  },
  {
   "cell_type": "code",
   "execution_count": 49,
   "id": "d20389a5",
   "metadata": {},
   "outputs": [],
   "source": [
    "sales_campaign=sales_data[sales_data['Month']< 5]['Sales']"
   ]
  },
  {
   "cell_type": "code",
   "execution_count": 50,
   "id": "020f97ed",
   "metadata": {},
   "outputs": [
    {
     "data": {
      "text/plain": [
       "0       2066.05\n",
       "2        847.68\n",
       "4       1149.47\n",
       "5       2875.20\n",
       "6        977.55\n",
       "         ...   \n",
       "1362     378.48\n",
       "1364     440.93\n",
       "1365    2882.76\n",
       "1366     286.68\n",
       "1369    1762.14\n",
       "Name: Sales, Length: 918, dtype: float64"
      ]
     },
     "execution_count": 50,
     "metadata": {},
     "output_type": "execute_result"
    }
   ],
   "source": [
    "sales_campaign"
   ]
  },
  {
   "cell_type": "code",
   "execution_count": 48,
   "id": "56cf023f",
   "metadata": {},
   "outputs": [
    {
     "name": "stdout",
     "output_type": "stream",
     "text": [
      "Total Sales during campaign : 1308551.48\n"
     ]
    }
   ],
   "source": [
    "total_sales_campaign=sum(sales_campaign)\n",
    "print('Total Sales during campaign :',round(total_sales_campaign,2))"
   ]
  },
  {
   "cell_type": "markdown",
   "id": "4c804944",
   "metadata": {},
   "source": [
    "### Total sales after the campaign"
   ]
  },
  {
   "cell_type": "code",
   "execution_count": 51,
   "id": "c126582b",
   "metadata": {},
   "outputs": [
    {
     "data": {
      "text/plain": [
       "1        457.78\n",
       "3        497.52\n",
       "9       1014.58\n",
       "10       659.16\n",
       "15      4341.80\n",
       "         ...   \n",
       "1360    1022.36\n",
       "1361    3395.34\n",
       "1363    2393.30\n",
       "1367     481.28\n",
       "1368    1094.80\n",
       "Name: Sales, Length: 452, dtype: float64"
      ]
     },
     "execution_count": 51,
     "metadata": {},
     "output_type": "execute_result"
    }
   ],
   "source": [
    "sales_after_campaign=sales_data[sales_data['Month']> 4]['Sales']\n",
    "sales_after_campaign"
   ]
  },
  {
   "cell_type": "code",
   "execution_count": 52,
   "id": "a8fef221",
   "metadata": {},
   "outputs": [
    {
     "name": "stdout",
     "output_type": "stream",
     "text": [
      "Total Sales after campaign : 637323.82\n"
     ]
    }
   ],
   "source": [
    "total_sales_after_campaign=sum(sales_after_campaign)\n",
    "print('Total Sales after campaign :',round(total_sales_after_campaign,2))"
   ]
  },
  {
   "cell_type": "markdown",
   "id": "218c60b5",
   "metadata": {},
   "source": [
    "###  Increase/decrease rate of sales"
   ]
  },
  {
   "cell_type": "code",
   "execution_count": 53,
   "id": "f3c3e608",
   "metadata": {},
   "outputs": [
    {
     "name": "stdout",
     "output_type": "stream",
     "text": [
      "Sales increase rate : 105.32 %\n"
     ]
    }
   ],
   "source": [
    "sales_incr_rate=((total_sales_campaign - total_sales_after_campaign)/total_sales_after_campaign)*100\n",
    "print(\"Sales increase rate :\",round(sales_incr_rate,2),'%')"
   ]
  },
  {
   "cell_type": "markdown",
   "id": "fc7fb83a",
   "metadata": {},
   "source": [
    "### How does the ROI of this campaign compare to previous ones? Was our spending justified by the results?"
   ]
  },
  {
   "cell_type": "markdown",
   "id": "1f8f467f",
   "metadata": {},
   "source": [
    "### ROI of recent campaign"
   ]
  },
  {
   "cell_type": "code",
   "execution_count": 54,
   "id": "a21bbb30",
   "metadata": {},
   "outputs": [
    {
     "name": "stdout",
     "output_type": "stream",
     "text": [
      "ROI of recent campaign 2517.1\n"
     ]
    }
   ],
   "source": [
    "roi_recent_camp=((total_sales_campaign-50000)/50000) * 100\n",
    "print(\"ROI of recent campaign\",round(roi_recent_camp,2))"
   ]
  },
  {
   "cell_type": "code",
   "execution_count": 56,
   "id": "f72c9fba",
   "metadata": {},
   "outputs": [
    {
     "name": "stdout",
     "output_type": "stream",
     "text": [
      "ROI of previous campaign 370.19\n"
     ]
    }
   ],
   "source": [
    "roi_previous_camp=((268009-57000)/57000) * 100\n",
    "print(\"ROI of previous campaign\",round(roi_previous_camp,2))"
   ]
  },
  {
   "cell_type": "code",
   "execution_count": 58,
   "id": "876cb161",
   "metadata": {},
   "outputs": [
    {
     "name": "stdout",
     "output_type": "stream",
     "text": [
      "ROI growth rate : 579.95 %\n"
     ]
    }
   ],
   "source": [
    "roi_growth = ((roi_recent_camp - roi_previous_camp)/roi_previous_camp) * 100\n",
    "print('ROI growth rate :',round(roi_growth,2),'%')"
   ]
  },
  {
   "cell_type": "markdown",
   "id": "60fa2fea",
   "metadata": {},
   "source": [
    "### Which customer demographics responded most positively or negatively to the campaign? Are there specific segments we should focus on or avoid in the future?"
   ]
  },
  {
   "cell_type": "markdown",
   "id": "489b03c2",
   "metadata": {},
   "source": [
    "### Customer engagement rates by segments"
   ]
  },
  {
   "cell_type": "code",
   "execution_count": 59,
   "id": "321257c5",
   "metadata": {},
   "outputs": [
    {
     "data": {
      "text/html": [
       "<div>\n",
       "<style scoped>\n",
       "    .dataframe tbody tr th:only-of-type {\n",
       "        vertical-align: middle;\n",
       "    }\n",
       "\n",
       "    .dataframe tbody tr th {\n",
       "        vertical-align: top;\n",
       "    }\n",
       "\n",
       "    .dataframe thead th {\n",
       "        text-align: right;\n",
       "    }\n",
       "</style>\n",
       "<table border=\"1\" class=\"dataframe\">\n",
       "  <thead>\n",
       "    <tr style=\"text-align: right;\">\n",
       "      <th></th>\n",
       "      <th>Customer ID</th>\n",
       "      <th>Age</th>\n",
       "      <th>Gender</th>\n",
       "      <th>Location</th>\n",
       "      <th>Income Level</th>\n",
       "      <th>Interaction Date</th>\n",
       "      <th>Interaction Type</th>\n",
       "      <th>Interaction Channel</th>\n",
       "    </tr>\n",
       "  </thead>\n",
       "  <tbody>\n",
       "    <tr>\n",
       "      <th>0</th>\n",
       "      <td>1</td>\n",
       "      <td>65</td>\n",
       "      <td>Male</td>\n",
       "      <td>Martinezmouth</td>\n",
       "      <td>61083</td>\n",
       "      <td>2024-02-28</td>\n",
       "      <td>share</td>\n",
       "      <td>website</td>\n",
       "    </tr>\n",
       "    <tr>\n",
       "      <th>1</th>\n",
       "      <td>2</td>\n",
       "      <td>43</td>\n",
       "      <td>Non-binary</td>\n",
       "      <td>South Anne</td>\n",
       "      <td>90419</td>\n",
       "      <td>2024-04-27</td>\n",
       "      <td>view</td>\n",
       "      <td>social media</td>\n",
       "    </tr>\n",
       "    <tr>\n",
       "      <th>2</th>\n",
       "      <td>3</td>\n",
       "      <td>58</td>\n",
       "      <td>Non-binary</td>\n",
       "      <td>West Darrellport</td>\n",
       "      <td>38260</td>\n",
       "      <td>2024-02-26</td>\n",
       "      <td>share</td>\n",
       "      <td>email</td>\n",
       "    </tr>\n",
       "    <tr>\n",
       "      <th>3</th>\n",
       "      <td>4</td>\n",
       "      <td>53</td>\n",
       "      <td>Non-binary</td>\n",
       "      <td>Stevenshire</td>\n",
       "      <td>34649</td>\n",
       "      <td>2024-02-13</td>\n",
       "      <td>click</td>\n",
       "      <td>email</td>\n",
       "    </tr>\n",
       "    <tr>\n",
       "      <th>4</th>\n",
       "      <td>5</td>\n",
       "      <td>69</td>\n",
       "      <td>Female</td>\n",
       "      <td>South Kellychester</td>\n",
       "      <td>70420</td>\n",
       "      <td>2024-04-01</td>\n",
       "      <td>share</td>\n",
       "      <td>social media</td>\n",
       "    </tr>\n",
       "  </tbody>\n",
       "</table>\n",
       "</div>"
      ],
      "text/plain": [
       "   Customer ID  Age      Gender            Location  Income Level  \\\n",
       "0            1   65        Male       Martinezmouth         61083   \n",
       "1            2   43  Non-binary          South Anne         90419   \n",
       "2            3   58  Non-binary    West Darrellport         38260   \n",
       "3            4   53  Non-binary         Stevenshire         34649   \n",
       "4            5   69      Female  South Kellychester         70420   \n",
       "\n",
       "  Interaction Date Interaction Type Interaction Channel  \n",
       "0       2024-02-28            share             website  \n",
       "1       2024-04-27             view        social media  \n",
       "2       2024-02-26            share               email  \n",
       "3       2024-02-13            click               email  \n",
       "4       2024-04-01            share        social media  "
      ]
     },
     "execution_count": 59,
     "metadata": {},
     "output_type": "execute_result"
    }
   ],
   "source": [
    "interacted_cust_data=customer_demographic_data.merge(customer_interactions_data,on='Customer ID',how='inner')\n",
    "interacted_cust_data.head()"
   ]
  },
  {
   "cell_type": "code",
   "execution_count": 60,
   "id": "ad0c4877",
   "metadata": {},
   "outputs": [
    {
     "data": {
      "text/html": [
       "<div>\n",
       "<style scoped>\n",
       "    .dataframe tbody tr th:only-of-type {\n",
       "        vertical-align: middle;\n",
       "    }\n",
       "\n",
       "    .dataframe tbody tr th {\n",
       "        vertical-align: top;\n",
       "    }\n",
       "\n",
       "    .dataframe thead th {\n",
       "        text-align: right;\n",
       "    }\n",
       "</style>\n",
       "<table border=\"1\" class=\"dataframe\">\n",
       "  <thead>\n",
       "    <tr style=\"text-align: right;\">\n",
       "      <th></th>\n",
       "      <th>Customer ID</th>\n",
       "      <th>Age</th>\n",
       "      <th>Gender</th>\n",
       "      <th>Location</th>\n",
       "      <th>Income Level</th>\n",
       "      <th>Interaction Date</th>\n",
       "      <th>Interaction Type</th>\n",
       "      <th>Interaction Channel</th>\n",
       "    </tr>\n",
       "  </thead>\n",
       "  <tbody>\n",
       "    <tr>\n",
       "      <th>51</th>\n",
       "      <td>52</td>\n",
       "      <td>20</td>\n",
       "      <td>Other</td>\n",
       "      <td>Dianaton</td>\n",
       "      <td>19176</td>\n",
       "      <td>2024-05-04</td>\n",
       "      <td>view</td>\n",
       "      <td>social media</td>\n",
       "    </tr>\n",
       "    <tr>\n",
       "      <th>64</th>\n",
       "      <td>65</td>\n",
       "      <td>21</td>\n",
       "      <td>Male</td>\n",
       "      <td>Lukemouth</td>\n",
       "      <td>26780</td>\n",
       "      <td>2024-01-18</td>\n",
       "      <td>click</td>\n",
       "      <td>social media</td>\n",
       "    </tr>\n",
       "    <tr>\n",
       "      <th>92</th>\n",
       "      <td>93</td>\n",
       "      <td>20</td>\n",
       "      <td>Other</td>\n",
       "      <td>Port Marvin</td>\n",
       "      <td>23532</td>\n",
       "      <td>2024-03-11</td>\n",
       "      <td>view</td>\n",
       "      <td>social media</td>\n",
       "    </tr>\n",
       "    <tr>\n",
       "      <th>114</th>\n",
       "      <td>115</td>\n",
       "      <td>20</td>\n",
       "      <td>Female</td>\n",
       "      <td>Lake Robertfurt</td>\n",
       "      <td>14709</td>\n",
       "      <td>2024-02-06</td>\n",
       "      <td>share</td>\n",
       "      <td>website</td>\n",
       "    </tr>\n",
       "    <tr>\n",
       "      <th>138</th>\n",
       "      <td>139</td>\n",
       "      <td>23</td>\n",
       "      <td>Non-binary</td>\n",
       "      <td>Cherylburgh</td>\n",
       "      <td>19490</td>\n",
       "      <td>2024-04-05</td>\n",
       "      <td>view</td>\n",
       "      <td>email</td>\n",
       "    </tr>\n",
       "  </tbody>\n",
       "</table>\n",
       "</div>"
      ],
      "text/plain": [
       "     Customer ID  Age      Gender         Location  Income Level  \\\n",
       "51            52   20       Other         Dianaton         19176   \n",
       "64            65   21        Male        Lukemouth         26780   \n",
       "92            93   20       Other      Port Marvin         23532   \n",
       "114          115   20      Female  Lake Robertfurt         14709   \n",
       "138          139   23  Non-binary      Cherylburgh         19490   \n",
       "\n",
       "    Interaction Date Interaction Type Interaction Channel  \n",
       "51        2024-05-04             view        social media  \n",
       "64        2024-01-18            click        social media  \n",
       "92        2024-03-11             view        social media  \n",
       "114       2024-02-06            share             website  \n",
       "138       2024-04-05             view               email  "
      ]
     },
     "execution_count": 60,
     "metadata": {},
     "output_type": "execute_result"
    }
   ],
   "source": [
    "young_low_income_intr = interacted_cust_data[(interacted_cust_data['Age']>17) & (interacted_cust_data['Age']< 25) & (interacted_cust_data['Income Level']<30000)]\n",
    "young_low_income_intr.head()"
   ]
  },
  {
   "cell_type": "code",
   "execution_count": 61,
   "id": "532b464f",
   "metadata": {},
   "outputs": [
    {
     "data": {
      "text/html": [
       "<div>\n",
       "<style scoped>\n",
       "    .dataframe tbody tr th:only-of-type {\n",
       "        vertical-align: middle;\n",
       "    }\n",
       "\n",
       "    .dataframe tbody tr th {\n",
       "        vertical-align: top;\n",
       "    }\n",
       "\n",
       "    .dataframe thead th {\n",
       "        text-align: right;\n",
       "    }\n",
       "</style>\n",
       "<table border=\"1\" class=\"dataframe\">\n",
       "  <thead>\n",
       "    <tr style=\"text-align: right;\">\n",
       "      <th></th>\n",
       "      <th>Customer ID</th>\n",
       "      <th>Age</th>\n",
       "      <th>Gender</th>\n",
       "      <th>Location</th>\n",
       "      <th>Income Level</th>\n",
       "      <th>Interaction Date</th>\n",
       "      <th>Interaction Type</th>\n",
       "      <th>Interaction Channel</th>\n",
       "    </tr>\n",
       "  </thead>\n",
       "  <tbody>\n",
       "    <tr>\n",
       "      <th>8</th>\n",
       "      <td>9</td>\n",
       "      <td>24</td>\n",
       "      <td>Non-binary</td>\n",
       "      <td>East Melanie</td>\n",
       "      <td>43329</td>\n",
       "      <td>2024-04-08</td>\n",
       "      <td>click</td>\n",
       "      <td>email</td>\n",
       "    </tr>\n",
       "    <tr>\n",
       "      <th>12</th>\n",
       "      <td>13</td>\n",
       "      <td>23</td>\n",
       "      <td>Non-binary</td>\n",
       "      <td>Port Vincent</td>\n",
       "      <td>46646</td>\n",
       "      <td>2024-02-01</td>\n",
       "      <td>share</td>\n",
       "      <td>social media</td>\n",
       "    </tr>\n",
       "    <tr>\n",
       "      <th>20</th>\n",
       "      <td>21</td>\n",
       "      <td>19</td>\n",
       "      <td>Non-binary</td>\n",
       "      <td>Paceview</td>\n",
       "      <td>53522</td>\n",
       "      <td>2024-04-27</td>\n",
       "      <td>share</td>\n",
       "      <td>website</td>\n",
       "    </tr>\n",
       "    <tr>\n",
       "      <th>72</th>\n",
       "      <td>73</td>\n",
       "      <td>22</td>\n",
       "      <td>Non-binary</td>\n",
       "      <td>Sherriton</td>\n",
       "      <td>55401</td>\n",
       "      <td>2024-02-05</td>\n",
       "      <td>click</td>\n",
       "      <td>social media</td>\n",
       "    </tr>\n",
       "    <tr>\n",
       "      <th>82</th>\n",
       "      <td>83</td>\n",
       "      <td>19</td>\n",
       "      <td>Female</td>\n",
       "      <td>Gibbsstad</td>\n",
       "      <td>44655</td>\n",
       "      <td>2024-03-02</td>\n",
       "      <td>click</td>\n",
       "      <td>email</td>\n",
       "    </tr>\n",
       "  </tbody>\n",
       "</table>\n",
       "</div>"
      ],
      "text/plain": [
       "    Customer ID  Age      Gender      Location  Income Level Interaction Date  \\\n",
       "8             9   24  Non-binary  East Melanie         43329       2024-04-08   \n",
       "12           13   23  Non-binary  Port Vincent         46646       2024-02-01   \n",
       "20           21   19  Non-binary      Paceview         53522       2024-04-27   \n",
       "72           73   22  Non-binary     Sherriton         55401       2024-02-05   \n",
       "82           83   19      Female     Gibbsstad         44655       2024-03-02   \n",
       "\n",
       "   Interaction Type Interaction Channel  \n",
       "8             click               email  \n",
       "12            share        social media  \n",
       "20            share             website  \n",
       "72            click        social media  \n",
       "82            click               email  "
      ]
     },
     "execution_count": 61,
     "metadata": {},
     "output_type": "execute_result"
    }
   ],
   "source": [
    "young_medium_income_intr = interacted_cust_data[(interacted_cust_data['Age']>17) & (interacted_cust_data['Age']< 25) & (interacted_cust_data['Income Level']>30000) & (interacted_cust_data['Income Level']<75000)]\n",
    "young_medium_income_intr.head()"
   ]
  },
  {
   "cell_type": "code",
   "execution_count": 62,
   "id": "442a3b13",
   "metadata": {},
   "outputs": [
    {
     "data": {
      "text/html": [
       "<div>\n",
       "<style scoped>\n",
       "    .dataframe tbody tr th:only-of-type {\n",
       "        vertical-align: middle;\n",
       "    }\n",
       "\n",
       "    .dataframe tbody tr th {\n",
       "        vertical-align: top;\n",
       "    }\n",
       "\n",
       "    .dataframe thead th {\n",
       "        text-align: right;\n",
       "    }\n",
       "</style>\n",
       "<table border=\"1\" class=\"dataframe\">\n",
       "  <thead>\n",
       "    <tr style=\"text-align: right;\">\n",
       "      <th></th>\n",
       "      <th>Customer ID</th>\n",
       "      <th>Age</th>\n",
       "      <th>Gender</th>\n",
       "      <th>Location</th>\n",
       "      <th>Income Level</th>\n",
       "      <th>Interaction Date</th>\n",
       "      <th>Interaction Type</th>\n",
       "      <th>Interaction Channel</th>\n",
       "    </tr>\n",
       "  </thead>\n",
       "  <tbody>\n",
       "    <tr>\n",
       "      <th>1</th>\n",
       "      <td>2</td>\n",
       "      <td>43</td>\n",
       "      <td>Non-binary</td>\n",
       "      <td>South Anne</td>\n",
       "      <td>90419</td>\n",
       "      <td>2024-04-27</td>\n",
       "      <td>view</td>\n",
       "      <td>social media</td>\n",
       "    </tr>\n",
       "    <tr>\n",
       "      <th>6</th>\n",
       "      <td>7</td>\n",
       "      <td>43</td>\n",
       "      <td>Male</td>\n",
       "      <td>Lake Joseph</td>\n",
       "      <td>89845</td>\n",
       "      <td>2024-03-03</td>\n",
       "      <td>click</td>\n",
       "      <td>website</td>\n",
       "    </tr>\n",
       "    <tr>\n",
       "      <th>9</th>\n",
       "      <td>10</td>\n",
       "      <td>37</td>\n",
       "      <td>Non-binary</td>\n",
       "      <td>Port Andrew</td>\n",
       "      <td>81745</td>\n",
       "      <td>2024-05-01</td>\n",
       "      <td>share</td>\n",
       "      <td>email</td>\n",
       "    </tr>\n",
       "    <tr>\n",
       "      <th>16</th>\n",
       "      <td>17</td>\n",
       "      <td>66</td>\n",
       "      <td>Other</td>\n",
       "      <td>East Jessica</td>\n",
       "      <td>95692</td>\n",
       "      <td>2024-04-16</td>\n",
       "      <td>click</td>\n",
       "      <td>email</td>\n",
       "    </tr>\n",
       "    <tr>\n",
       "      <th>19</th>\n",
       "      <td>20</td>\n",
       "      <td>41</td>\n",
       "      <td>Male</td>\n",
       "      <td>North David</td>\n",
       "      <td>77251</td>\n",
       "      <td>2024-03-11</td>\n",
       "      <td>click</td>\n",
       "      <td>website</td>\n",
       "    </tr>\n",
       "  </tbody>\n",
       "</table>\n",
       "</div>"
      ],
      "text/plain": [
       "    Customer ID  Age      Gender      Location  Income Level Interaction Date  \\\n",
       "1             2   43  Non-binary    South Anne         90419       2024-04-27   \n",
       "6             7   43        Male   Lake Joseph         89845       2024-03-03   \n",
       "9            10   37  Non-binary   Port Andrew         81745       2024-05-01   \n",
       "16           17   66       Other  East Jessica         95692       2024-04-16   \n",
       "19           20   41        Male   North David         77251       2024-03-11   \n",
       "\n",
       "   Interaction Type Interaction Channel  \n",
       "1              view        social media  \n",
       "6             click             website  \n",
       "9             share               email  \n",
       "16            click               email  \n",
       "19            click             website  "
      ]
     },
     "execution_count": 62,
     "metadata": {},
     "output_type": "execute_result"
    }
   ],
   "source": [
    "middle_high_income_intr = interacted_cust_data[(interacted_cust_data['Age']>24)  & (interacted_cust_data['Income Level']>75000)]\n",
    "middle_high_income_intr.head()"
   ]
  },
  {
   "cell_type": "code",
   "execution_count": 68,
   "id": "459d2709",
   "metadata": {},
   "outputs": [
    {
     "data": {
      "text/plain": [
       "2.9"
      ]
     },
     "execution_count": 68,
     "metadata": {},
     "output_type": "execute_result"
    }
   ],
   "source": [
    "young_low_income_intr_cust=young_low_income_intr['Customer ID'].nunique()\n",
    "egr_young_low_income_intr_cust=(young_low_income_intr_cust/1000)*100\n",
    "round(egr_young_low_income_intr_cust,2)"
   ]
  },
  {
   "cell_type": "code",
   "execution_count": 70,
   "id": "c21b2a26",
   "metadata": {},
   "outputs": [
    {
     "data": {
      "text/plain": [
       "7.7"
      ]
     },
     "execution_count": 70,
     "metadata": {},
     "output_type": "execute_result"
    }
   ],
   "source": [
    "young_medium_income_intr_cust=young_medium_income_intr['Customer ID'].nunique()\n",
    "egr_young_medium_income_intr_cust = (young_medium_income_intr_cust/1000)*100\n",
    "round(egr_young_medium_income_intr_cust,2)"
   ]
  },
  {
   "cell_type": "code",
   "execution_count": 72,
   "id": "56595149",
   "metadata": {},
   "outputs": [
    {
     "data": {
      "text/plain": [
       "22.8"
      ]
     },
     "execution_count": 72,
     "metadata": {},
     "output_type": "execute_result"
    }
   ],
   "source": [
    "middle_high_income_intr_cust=middle_high_income_intr['Customer ID'].nunique()\n",
    "egr_middle_high_income_intr_cust= (middle_high_income_intr_cust/1000)*100\n",
    "round(egr_middle_high_income_intr_cust,2)"
   ]
  },
  {
   "cell_type": "markdown",
   "id": "7ec6d380",
   "metadata": {},
   "source": [
    "### Customer conversion rates by segments"
   ]
  },
  {
   "cell_type": "code",
   "execution_count": 76,
   "id": "adbdf02a",
   "metadata": {
    "scrolled": true
   },
   "outputs": [
    {
     "data": {
      "text/html": [
       "<div>\n",
       "<style scoped>\n",
       "    .dataframe tbody tr th:only-of-type {\n",
       "        vertical-align: middle;\n",
       "    }\n",
       "\n",
       "    .dataframe tbody tr th {\n",
       "        vertical-align: top;\n",
       "    }\n",
       "\n",
       "    .dataframe thead th {\n",
       "        text-align: right;\n",
       "    }\n",
       "</style>\n",
       "<table border=\"1\" class=\"dataframe\">\n",
       "  <thead>\n",
       "    <tr style=\"text-align: right;\">\n",
       "      <th></th>\n",
       "      <th>Customer ID</th>\n",
       "      <th>Age</th>\n",
       "      <th>Gender</th>\n",
       "      <th>Location</th>\n",
       "      <th>Income Level</th>\n",
       "      <th>Interaction Date</th>\n",
       "      <th>Interaction Type</th>\n",
       "      <th>Interaction Channel</th>\n",
       "      <th>Transaction ID</th>\n",
       "      <th>Transaction Date</th>\n",
       "      <th>Product ID</th>\n",
       "      <th>Product Category</th>\n",
       "      <th>Sales Amount</th>\n",
       "      <th>Quantity</th>\n",
       "    </tr>\n",
       "  </thead>\n",
       "  <tbody>\n",
       "    <tr>\n",
       "      <th>0</th>\n",
       "      <td>1</td>\n",
       "      <td>65</td>\n",
       "      <td>Male</td>\n",
       "      <td>Martinezmouth</td>\n",
       "      <td>61083</td>\n",
       "      <td>2024-02-28</td>\n",
       "      <td>share</td>\n",
       "      <td>website</td>\n",
       "      <td>178</td>\n",
       "      <td>2024-05-31</td>\n",
       "      <td>88</td>\n",
       "      <td>Home &amp; Kitchen</td>\n",
       "      <td>372.84</td>\n",
       "      <td>6</td>\n",
       "    </tr>\n",
       "    <tr>\n",
       "      <th>1</th>\n",
       "      <td>2</td>\n",
       "      <td>43</td>\n",
       "      <td>Non-binary</td>\n",
       "      <td>South Anne</td>\n",
       "      <td>90419</td>\n",
       "      <td>2024-04-27</td>\n",
       "      <td>view</td>\n",
       "      <td>social media</td>\n",
       "      <td>135</td>\n",
       "      <td>2024-03-18</td>\n",
       "      <td>84</td>\n",
       "      <td>Clothing</td>\n",
       "      <td>485.74</td>\n",
       "      <td>9</td>\n",
       "    </tr>\n",
       "    <tr>\n",
       "      <th>2</th>\n",
       "      <td>2</td>\n",
       "      <td>43</td>\n",
       "      <td>Non-binary</td>\n",
       "      <td>South Anne</td>\n",
       "      <td>90419</td>\n",
       "      <td>2024-04-27</td>\n",
       "      <td>view</td>\n",
       "      <td>social media</td>\n",
       "      <td>223</td>\n",
       "      <td>2024-07-04</td>\n",
       "      <td>99</td>\n",
       "      <td>Sports</td>\n",
       "      <td>482.55</td>\n",
       "      <td>6</td>\n",
       "    </tr>\n",
       "    <tr>\n",
       "      <th>3</th>\n",
       "      <td>2</td>\n",
       "      <td>43</td>\n",
       "      <td>Non-binary</td>\n",
       "      <td>South Anne</td>\n",
       "      <td>90419</td>\n",
       "      <td>2024-04-27</td>\n",
       "      <td>view</td>\n",
       "      <td>social media</td>\n",
       "      <td>886</td>\n",
       "      <td>2024-03-13</td>\n",
       "      <td>170</td>\n",
       "      <td>Home &amp; Kitchen</td>\n",
       "      <td>272.24</td>\n",
       "      <td>9</td>\n",
       "    </tr>\n",
       "    <tr>\n",
       "      <th>4</th>\n",
       "      <td>2</td>\n",
       "      <td>43</td>\n",
       "      <td>Non-binary</td>\n",
       "      <td>South Anne</td>\n",
       "      <td>90419</td>\n",
       "      <td>2024-04-27</td>\n",
       "      <td>view</td>\n",
       "      <td>social media</td>\n",
       "      <td>1183</td>\n",
       "      <td>2024-02-06</td>\n",
       "      <td>241</td>\n",
       "      <td>Books</td>\n",
       "      <td>13.68</td>\n",
       "      <td>7</td>\n",
       "    </tr>\n",
       "  </tbody>\n",
       "</table>\n",
       "</div>"
      ],
      "text/plain": [
       "   Customer ID  Age      Gender       Location  Income Level Interaction Date  \\\n",
       "0            1   65        Male  Martinezmouth         61083       2024-02-28   \n",
       "1            2   43  Non-binary     South Anne         90419       2024-04-27   \n",
       "2            2   43  Non-binary     South Anne         90419       2024-04-27   \n",
       "3            2   43  Non-binary     South Anne         90419       2024-04-27   \n",
       "4            2   43  Non-binary     South Anne         90419       2024-04-27   \n",
       "\n",
       "  Interaction Type Interaction Channel  Transaction ID Transaction Date  \\\n",
       "0            share             website             178       2024-05-31   \n",
       "1             view        social media             135       2024-03-18   \n",
       "2             view        social media             223       2024-07-04   \n",
       "3             view        social media             886       2024-03-13   \n",
       "4             view        social media            1183       2024-02-06   \n",
       "\n",
       "   Product ID Product Category  Sales Amount  Quantity  \n",
       "0          88   Home & Kitchen        372.84         6  \n",
       "1          84         Clothing        485.74         9  \n",
       "2          99           Sports        482.55         6  \n",
       "3         170   Home & Kitchen        272.24         9  \n",
       "4         241            Books         13.68         7  "
      ]
     },
     "execution_count": 76,
     "metadata": {},
     "output_type": "execute_result"
    }
   ],
   "source": [
    "converted_cust_data = customer_demographic_data.merge(cust_intr_purch,on='Customer ID',how='inner')\n",
    "converted_cust_data.head()"
   ]
  },
  {
   "cell_type": "code",
   "execution_count": 77,
   "id": "9bf07014",
   "metadata": {},
   "outputs": [
    {
     "data": {
      "text/html": [
       "<div>\n",
       "<style scoped>\n",
       "    .dataframe tbody tr th:only-of-type {\n",
       "        vertical-align: middle;\n",
       "    }\n",
       "\n",
       "    .dataframe tbody tr th {\n",
       "        vertical-align: top;\n",
       "    }\n",
       "\n",
       "    .dataframe thead th {\n",
       "        text-align: right;\n",
       "    }\n",
       "</style>\n",
       "<table border=\"1\" class=\"dataframe\">\n",
       "  <thead>\n",
       "    <tr style=\"text-align: right;\">\n",
       "      <th></th>\n",
       "      <th>Customer ID</th>\n",
       "      <th>Age</th>\n",
       "      <th>Gender</th>\n",
       "      <th>Location</th>\n",
       "      <th>Income Level</th>\n",
       "      <th>Interaction Date</th>\n",
       "      <th>Interaction Type</th>\n",
       "      <th>Interaction Channel</th>\n",
       "      <th>Transaction ID</th>\n",
       "      <th>Transaction Date</th>\n",
       "      <th>Product ID</th>\n",
       "      <th>Product Category</th>\n",
       "      <th>Sales Amount</th>\n",
       "      <th>Quantity</th>\n",
       "    </tr>\n",
       "  </thead>\n",
       "  <tbody>\n",
       "    <tr>\n",
       "      <th>85</th>\n",
       "      <td>52</td>\n",
       "      <td>20</td>\n",
       "      <td>Other</td>\n",
       "      <td>Dianaton</td>\n",
       "      <td>19176</td>\n",
       "      <td>2024-05-04</td>\n",
       "      <td>view</td>\n",
       "      <td>social media</td>\n",
       "      <td>849</td>\n",
       "      <td>2024-05-19</td>\n",
       "      <td>88</td>\n",
       "      <td>Books</td>\n",
       "      <td>488.03</td>\n",
       "      <td>4</td>\n",
       "    </tr>\n",
       "    <tr>\n",
       "      <th>86</th>\n",
       "      <td>52</td>\n",
       "      <td>20</td>\n",
       "      <td>Other</td>\n",
       "      <td>Dianaton</td>\n",
       "      <td>19176</td>\n",
       "      <td>2024-05-04</td>\n",
       "      <td>view</td>\n",
       "      <td>social media</td>\n",
       "      <td>1105</td>\n",
       "      <td>2024-04-27</td>\n",
       "      <td>195</td>\n",
       "      <td>Home &amp; Kitchen</td>\n",
       "      <td>264.88</td>\n",
       "      <td>3</td>\n",
       "    </tr>\n",
       "    <tr>\n",
       "      <th>101</th>\n",
       "      <td>65</td>\n",
       "      <td>21</td>\n",
       "      <td>Male</td>\n",
       "      <td>Lukemouth</td>\n",
       "      <td>26780</td>\n",
       "      <td>2024-01-18</td>\n",
       "      <td>click</td>\n",
       "      <td>social media</td>\n",
       "      <td>584</td>\n",
       "      <td>2024-02-25</td>\n",
       "      <td>31</td>\n",
       "      <td>Clothing</td>\n",
       "      <td>313.44</td>\n",
       "      <td>6</td>\n",
       "    </tr>\n",
       "    <tr>\n",
       "      <th>168</th>\n",
       "      <td>115</td>\n",
       "      <td>20</td>\n",
       "      <td>Female</td>\n",
       "      <td>Lake Robertfurt</td>\n",
       "      <td>14709</td>\n",
       "      <td>2024-02-06</td>\n",
       "      <td>share</td>\n",
       "      <td>website</td>\n",
       "      <td>1356</td>\n",
       "      <td>2024-02-27</td>\n",
       "      <td>128</td>\n",
       "      <td>Toys</td>\n",
       "      <td>43.71</td>\n",
       "      <td>6</td>\n",
       "    </tr>\n",
       "    <tr>\n",
       "      <th>209</th>\n",
       "      <td>139</td>\n",
       "      <td>23</td>\n",
       "      <td>Non-binary</td>\n",
       "      <td>Cherylburgh</td>\n",
       "      <td>19490</td>\n",
       "      <td>2024-04-05</td>\n",
       "      <td>view</td>\n",
       "      <td>email</td>\n",
       "      <td>616</td>\n",
       "      <td>2024-02-23</td>\n",
       "      <td>177</td>\n",
       "      <td>Toys</td>\n",
       "      <td>284.77</td>\n",
       "      <td>10</td>\n",
       "    </tr>\n",
       "  </tbody>\n",
       "</table>\n",
       "</div>"
      ],
      "text/plain": [
       "     Customer ID  Age      Gender         Location  Income Level  \\\n",
       "85            52   20       Other         Dianaton         19176   \n",
       "86            52   20       Other         Dianaton         19176   \n",
       "101           65   21        Male        Lukemouth         26780   \n",
       "168          115   20      Female  Lake Robertfurt         14709   \n",
       "209          139   23  Non-binary      Cherylburgh         19490   \n",
       "\n",
       "    Interaction Date Interaction Type Interaction Channel  Transaction ID  \\\n",
       "85        2024-05-04             view        social media             849   \n",
       "86        2024-05-04             view        social media            1105   \n",
       "101       2024-01-18            click        social media             584   \n",
       "168       2024-02-06            share             website            1356   \n",
       "209       2024-04-05             view               email             616   \n",
       "\n",
       "    Transaction Date  Product ID Product Category  Sales Amount  Quantity  \n",
       "85        2024-05-19          88            Books        488.03         4  \n",
       "86        2024-04-27         195   Home & Kitchen        264.88         3  \n",
       "101       2024-02-25          31         Clothing        313.44         6  \n",
       "168       2024-02-27         128             Toys         43.71         6  \n",
       "209       2024-02-23         177             Toys        284.77        10  "
      ]
     },
     "execution_count": 77,
     "metadata": {},
     "output_type": "execute_result"
    }
   ],
   "source": [
    "young_low_income_cnvr = converted_cust_data[(converted_cust_data['Age']>17) & (converted_cust_data['Age']< 25) & (converted_cust_data['Income Level']<30000)]\n",
    "young_low_income_cnvr.head()"
   ]
  },
  {
   "cell_type": "code",
   "execution_count": 78,
   "id": "311bf992",
   "metadata": {},
   "outputs": [
    {
     "data": {
      "text/html": [
       "<div>\n",
       "<style scoped>\n",
       "    .dataframe tbody tr th:only-of-type {\n",
       "        vertical-align: middle;\n",
       "    }\n",
       "\n",
       "    .dataframe tbody tr th {\n",
       "        vertical-align: top;\n",
       "    }\n",
       "\n",
       "    .dataframe thead th {\n",
       "        text-align: right;\n",
       "    }\n",
       "</style>\n",
       "<table border=\"1\" class=\"dataframe\">\n",
       "  <thead>\n",
       "    <tr style=\"text-align: right;\">\n",
       "      <th></th>\n",
       "      <th>Customer ID</th>\n",
       "      <th>Age</th>\n",
       "      <th>Gender</th>\n",
       "      <th>Location</th>\n",
       "      <th>Income Level</th>\n",
       "      <th>Interaction Date</th>\n",
       "      <th>Interaction Type</th>\n",
       "      <th>Interaction Channel</th>\n",
       "      <th>Transaction ID</th>\n",
       "      <th>Transaction Date</th>\n",
       "      <th>Product ID</th>\n",
       "      <th>Product Category</th>\n",
       "      <th>Sales Amount</th>\n",
       "      <th>Quantity</th>\n",
       "    </tr>\n",
       "  </thead>\n",
       "  <tbody>\n",
       "    <tr>\n",
       "      <th>11</th>\n",
       "      <td>9</td>\n",
       "      <td>24</td>\n",
       "      <td>Non-binary</td>\n",
       "      <td>East Melanie</td>\n",
       "      <td>43329</td>\n",
       "      <td>2024-04-08</td>\n",
       "      <td>click</td>\n",
       "      <td>email</td>\n",
       "      <td>64</td>\n",
       "      <td>2024-02-02</td>\n",
       "      <td>372</td>\n",
       "      <td>Books</td>\n",
       "      <td>492.84</td>\n",
       "      <td>5</td>\n",
       "    </tr>\n",
       "    <tr>\n",
       "      <th>12</th>\n",
       "      <td>9</td>\n",
       "      <td>24</td>\n",
       "      <td>Non-binary</td>\n",
       "      <td>East Melanie</td>\n",
       "      <td>43329</td>\n",
       "      <td>2024-04-08</td>\n",
       "      <td>click</td>\n",
       "      <td>email</td>\n",
       "      <td>119</td>\n",
       "      <td>2024-02-26</td>\n",
       "      <td>162</td>\n",
       "      <td>Home &amp; Kitchen</td>\n",
       "      <td>425.09</td>\n",
       "      <td>3</td>\n",
       "    </tr>\n",
       "    <tr>\n",
       "      <th>13</th>\n",
       "      <td>9</td>\n",
       "      <td>24</td>\n",
       "      <td>Non-binary</td>\n",
       "      <td>East Melanie</td>\n",
       "      <td>43329</td>\n",
       "      <td>2024-04-08</td>\n",
       "      <td>click</td>\n",
       "      <td>email</td>\n",
       "      <td>1205</td>\n",
       "      <td>2024-03-14</td>\n",
       "      <td>232</td>\n",
       "      <td>Toys</td>\n",
       "      <td>188.41</td>\n",
       "      <td>3</td>\n",
       "    </tr>\n",
       "    <tr>\n",
       "      <th>30</th>\n",
       "      <td>21</td>\n",
       "      <td>19</td>\n",
       "      <td>Non-binary</td>\n",
       "      <td>Paceview</td>\n",
       "      <td>53522</td>\n",
       "      <td>2024-04-27</td>\n",
       "      <td>share</td>\n",
       "      <td>website</td>\n",
       "      <td>491</td>\n",
       "      <td>2024-03-25</td>\n",
       "      <td>207</td>\n",
       "      <td>Electronics</td>\n",
       "      <td>489.17</td>\n",
       "      <td>2</td>\n",
       "    </tr>\n",
       "    <tr>\n",
       "      <th>31</th>\n",
       "      <td>21</td>\n",
       "      <td>19</td>\n",
       "      <td>Non-binary</td>\n",
       "      <td>Paceview</td>\n",
       "      <td>53522</td>\n",
       "      <td>2024-04-27</td>\n",
       "      <td>share</td>\n",
       "      <td>website</td>\n",
       "      <td>581</td>\n",
       "      <td>2024-06-25</td>\n",
       "      <td>231</td>\n",
       "      <td>Home &amp; Kitchen</td>\n",
       "      <td>110.57</td>\n",
       "      <td>7</td>\n",
       "    </tr>\n",
       "  </tbody>\n",
       "</table>\n",
       "</div>"
      ],
      "text/plain": [
       "    Customer ID  Age      Gender      Location  Income Level Interaction Date  \\\n",
       "11            9   24  Non-binary  East Melanie         43329       2024-04-08   \n",
       "12            9   24  Non-binary  East Melanie         43329       2024-04-08   \n",
       "13            9   24  Non-binary  East Melanie         43329       2024-04-08   \n",
       "30           21   19  Non-binary      Paceview         53522       2024-04-27   \n",
       "31           21   19  Non-binary      Paceview         53522       2024-04-27   \n",
       "\n",
       "   Interaction Type Interaction Channel  Transaction ID Transaction Date  \\\n",
       "11            click               email              64       2024-02-02   \n",
       "12            click               email             119       2024-02-26   \n",
       "13            click               email            1205       2024-03-14   \n",
       "30            share             website             491       2024-03-25   \n",
       "31            share             website             581       2024-06-25   \n",
       "\n",
       "    Product ID Product Category  Sales Amount  Quantity  \n",
       "11         372            Books        492.84         5  \n",
       "12         162   Home & Kitchen        425.09         3  \n",
       "13         232             Toys        188.41         3  \n",
       "30         207      Electronics        489.17         2  \n",
       "31         231   Home & Kitchen        110.57         7  "
      ]
     },
     "execution_count": 78,
     "metadata": {},
     "output_type": "execute_result"
    }
   ],
   "source": [
    "young_medium_income_cnvr = converted_cust_data[(converted_cust_data['Age']>17) & (converted_cust_data['Age']< 25) & (converted_cust_data['Income Level']>30000) & (converted_cust_data['Income Level']<75000)]\n",
    "young_medium_income_cnvr.head()"
   ]
  },
  {
   "cell_type": "code",
   "execution_count": 79,
   "id": "df6af3c0",
   "metadata": {},
   "outputs": [
    {
     "data": {
      "text/html": [
       "<div>\n",
       "<style scoped>\n",
       "    .dataframe tbody tr th:only-of-type {\n",
       "        vertical-align: middle;\n",
       "    }\n",
       "\n",
       "    .dataframe tbody tr th {\n",
       "        vertical-align: top;\n",
       "    }\n",
       "\n",
       "    .dataframe thead th {\n",
       "        text-align: right;\n",
       "    }\n",
       "</style>\n",
       "<table border=\"1\" class=\"dataframe\">\n",
       "  <thead>\n",
       "    <tr style=\"text-align: right;\">\n",
       "      <th></th>\n",
       "      <th>Customer ID</th>\n",
       "      <th>Age</th>\n",
       "      <th>Gender</th>\n",
       "      <th>Location</th>\n",
       "      <th>Income Level</th>\n",
       "      <th>Interaction Date</th>\n",
       "      <th>Interaction Type</th>\n",
       "      <th>Interaction Channel</th>\n",
       "      <th>Transaction ID</th>\n",
       "      <th>Transaction Date</th>\n",
       "      <th>Product ID</th>\n",
       "      <th>Product Category</th>\n",
       "      <th>Sales Amount</th>\n",
       "      <th>Quantity</th>\n",
       "    </tr>\n",
       "  </thead>\n",
       "  <tbody>\n",
       "    <tr>\n",
       "      <th>1</th>\n",
       "      <td>2</td>\n",
       "      <td>43</td>\n",
       "      <td>Non-binary</td>\n",
       "      <td>South Anne</td>\n",
       "      <td>90419</td>\n",
       "      <td>2024-04-27</td>\n",
       "      <td>view</td>\n",
       "      <td>social media</td>\n",
       "      <td>135</td>\n",
       "      <td>2024-03-18</td>\n",
       "      <td>84</td>\n",
       "      <td>Clothing</td>\n",
       "      <td>485.74</td>\n",
       "      <td>9</td>\n",
       "    </tr>\n",
       "    <tr>\n",
       "      <th>2</th>\n",
       "      <td>2</td>\n",
       "      <td>43</td>\n",
       "      <td>Non-binary</td>\n",
       "      <td>South Anne</td>\n",
       "      <td>90419</td>\n",
       "      <td>2024-04-27</td>\n",
       "      <td>view</td>\n",
       "      <td>social media</td>\n",
       "      <td>223</td>\n",
       "      <td>2024-07-04</td>\n",
       "      <td>99</td>\n",
       "      <td>Sports</td>\n",
       "      <td>482.55</td>\n",
       "      <td>6</td>\n",
       "    </tr>\n",
       "    <tr>\n",
       "      <th>3</th>\n",
       "      <td>2</td>\n",
       "      <td>43</td>\n",
       "      <td>Non-binary</td>\n",
       "      <td>South Anne</td>\n",
       "      <td>90419</td>\n",
       "      <td>2024-04-27</td>\n",
       "      <td>view</td>\n",
       "      <td>social media</td>\n",
       "      <td>886</td>\n",
       "      <td>2024-03-13</td>\n",
       "      <td>170</td>\n",
       "      <td>Home &amp; Kitchen</td>\n",
       "      <td>272.24</td>\n",
       "      <td>9</td>\n",
       "    </tr>\n",
       "    <tr>\n",
       "      <th>4</th>\n",
       "      <td>2</td>\n",
       "      <td>43</td>\n",
       "      <td>Non-binary</td>\n",
       "      <td>South Anne</td>\n",
       "      <td>90419</td>\n",
       "      <td>2024-04-27</td>\n",
       "      <td>view</td>\n",
       "      <td>social media</td>\n",
       "      <td>1183</td>\n",
       "      <td>2024-02-06</td>\n",
       "      <td>241</td>\n",
       "      <td>Books</td>\n",
       "      <td>13.68</td>\n",
       "      <td>7</td>\n",
       "    </tr>\n",
       "    <tr>\n",
       "      <th>14</th>\n",
       "      <td>10</td>\n",
       "      <td>37</td>\n",
       "      <td>Non-binary</td>\n",
       "      <td>Port Andrew</td>\n",
       "      <td>81745</td>\n",
       "      <td>2024-05-01</td>\n",
       "      <td>share</td>\n",
       "      <td>email</td>\n",
       "      <td>342</td>\n",
       "      <td>2024-01-06</td>\n",
       "      <td>116</td>\n",
       "      <td>Books</td>\n",
       "      <td>11.30</td>\n",
       "      <td>1</td>\n",
       "    </tr>\n",
       "  </tbody>\n",
       "</table>\n",
       "</div>"
      ],
      "text/plain": [
       "    Customer ID  Age      Gender     Location  Income Level Interaction Date  \\\n",
       "1             2   43  Non-binary   South Anne         90419       2024-04-27   \n",
       "2             2   43  Non-binary   South Anne         90419       2024-04-27   \n",
       "3             2   43  Non-binary   South Anne         90419       2024-04-27   \n",
       "4             2   43  Non-binary   South Anne         90419       2024-04-27   \n",
       "14           10   37  Non-binary  Port Andrew         81745       2024-05-01   \n",
       "\n",
       "   Interaction Type Interaction Channel  Transaction ID Transaction Date  \\\n",
       "1              view        social media             135       2024-03-18   \n",
       "2              view        social media             223       2024-07-04   \n",
       "3              view        social media             886       2024-03-13   \n",
       "4              view        social media            1183       2024-02-06   \n",
       "14            share               email             342       2024-01-06   \n",
       "\n",
       "    Product ID Product Category  Sales Amount  Quantity  \n",
       "1           84         Clothing        485.74         9  \n",
       "2           99           Sports        482.55         6  \n",
       "3          170   Home & Kitchen        272.24         9  \n",
       "4          241            Books         13.68         7  \n",
       "14         116            Books         11.30         1  "
      ]
     },
     "execution_count": 79,
     "metadata": {},
     "output_type": "execute_result"
    }
   ],
   "source": [
    "middle_high_income_cnvr= converted_cust_data[(converted_cust_data['Age']>24)  & (converted_cust_data['Income Level']>75000)]\n",
    "middle_high_income_cnvr.head()"
   ]
  },
  {
   "cell_type": "code",
   "execution_count": 80,
   "id": "94fb724b",
   "metadata": {},
   "outputs": [
    {
     "data": {
      "text/plain": [
       "2.74"
      ]
     },
     "execution_count": 80,
     "metadata": {},
     "output_type": "execute_result"
    }
   ],
   "source": [
    "young_low_income_cnvr_cust=young_low_income_cnvr['Customer ID'].nunique()\n",
    "cnvr_young_low_income_cust=(young_low_income_cnvr_cust/total_cust_intr_purch)*100\n",
    "round(cnvr_young_low_income_cust,2)"
   ]
  },
  {
   "cell_type": "code",
   "execution_count": 81,
   "id": "376354fd",
   "metadata": {},
   "outputs": [
    {
     "data": {
      "text/plain": [
       "8.38"
      ]
     },
     "execution_count": 81,
     "metadata": {},
     "output_type": "execute_result"
    }
   ],
   "source": [
    "young_medium_income_cnvr_cust=young_medium_income_cnvr['Customer ID'].nunique()\n",
    "cnvr_young_medium_income_cust=(young_medium_income_cnvr_cust/total_cust_intr_purch)*100\n",
    "round(cnvr_young_medium_income_cust,2)"
   ]
  },
  {
   "cell_type": "code",
   "execution_count": 82,
   "id": "9f86cf9c",
   "metadata": {},
   "outputs": [
    {
     "data": {
      "text/plain": [
       "22.87"
      ]
     },
     "execution_count": 82,
     "metadata": {},
     "output_type": "execute_result"
    }
   ],
   "source": [
    "middle_high_income_cnvr_cust=middle_high_income_cnvr['Customer ID'].nunique()\n",
    "cnvr_middle_high_income_cust=(middle_high_income_cnvr_cust/total_cust_intr_purch)*100\n",
    "round(cnvr_middle_high_income_cust,2)"
   ]
  },
  {
   "cell_type": "markdown",
   "id": "f5b0de2b",
   "metadata": {},
   "source": [
    "### Final Remarks\n",
    "- Most of the customers interacted by sharing our posts and exploring our websites with a customer engagement rate of 66.67%.\n",
    "- We have exceeded our target conversion rate of 35% by the conversion rate of this marketing campaign based on the number of total targeted customers (43.73%).\n",
    "- We have achieved a huge milestone of 105% sales increase and 580% ROI growth in this marketing campaign compared to previous marketing campaign.\n",
    "- Middle aged higher income customers responded most positively with around 22% engagement and conversion rate compared to other customer demographic segments. We should specially focus on the customers of this segment.\n"
   ]
  },
  {
   "cell_type": "markdown",
   "id": "c8c51f9b",
   "metadata": {},
   "source": [
    "## Thank You!"
   ]
  },
  {
   "cell_type": "code",
   "execution_count": null,
   "id": "5d8e21fc",
   "metadata": {},
   "outputs": [],
   "source": []
  }
 ],
 "metadata": {
  "kernelspec": {
   "display_name": "Python 3 (ipykernel)",
   "language": "python",
   "name": "python3"
  },
  "language_info": {
   "codemirror_mode": {
    "name": "ipython",
    "version": 3
   },
   "file_extension": ".py",
   "mimetype": "text/x-python",
   "name": "python",
   "nbconvert_exporter": "python",
   "pygments_lexer": "ipython3",
   "version": "3.11.5"
  }
 },
 "nbformat": 4,
 "nbformat_minor": 5
}
